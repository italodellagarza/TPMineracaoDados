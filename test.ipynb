{
 "cells": [
  {
   "cell_type": "markdown",
   "metadata": {},
   "source": [
    "# Teste"
   ]
  },
  {
   "cell_type": "code",
   "execution_count": 1,
   "metadata": {},
   "outputs": [],
   "source": [
    "import numpy as np\n",
    "from matplotlib import pyplot as plt\n",
    "import pandas as pd\n",
    "from sklearn.preprocessing import MinMaxScaler\n",
    "from sklearn.feature_selection import SelectKBest, chi2\n",
    "import random\n",
    "import torch\n",
    "\n",
    "from bayesian_nn import BayesianNN\n",
    "from nn_methods import NeuralNetworkMethods"
   ]
  },
  {
   "cell_type": "code",
   "execution_count": 2,
   "metadata": {},
   "outputs": [],
   "source": [
    "%matplotlib inline"
   ]
  },
  {
   "cell_type": "markdown",
   "metadata": {},
   "source": [
    "## Carregando o Dataset"
   ]
  },
  {
   "cell_type": "code",
   "execution_count": 3,
   "metadata": {},
   "outputs": [
    {
     "data": {
      "text/html": [
       "<div>\n",
       "<style scoped>\n",
       "    .dataframe tbody tr th:only-of-type {\n",
       "        vertical-align: middle;\n",
       "    }\n",
       "\n",
       "    .dataframe tbody tr th {\n",
       "        vertical-align: top;\n",
       "    }\n",
       "\n",
       "    .dataframe thead th {\n",
       "        text-align: right;\n",
       "    }\n",
       "</style>\n",
       "<table border=\"1\" class=\"dataframe\">\n",
       "  <thead>\n",
       "    <tr style=\"text-align: right;\">\n",
       "      <th></th>\n",
       "      <th>Pregnancies</th>\n",
       "      <th>Glucose</th>\n",
       "      <th>BloodPressure</th>\n",
       "      <th>SkinThickness</th>\n",
       "      <th>Insulin</th>\n",
       "      <th>BMI</th>\n",
       "      <th>DiabetesPedigreeFunction</th>\n",
       "      <th>Age</th>\n",
       "      <th>Outcome</th>\n",
       "    </tr>\n",
       "  </thead>\n",
       "  <tbody>\n",
       "    <tr>\n",
       "      <th>0</th>\n",
       "      <td>6</td>\n",
       "      <td>148</td>\n",
       "      <td>72</td>\n",
       "      <td>35</td>\n",
       "      <td>0</td>\n",
       "      <td>33.6</td>\n",
       "      <td>0.627</td>\n",
       "      <td>50</td>\n",
       "      <td>1</td>\n",
       "    </tr>\n",
       "    <tr>\n",
       "      <th>1</th>\n",
       "      <td>1</td>\n",
       "      <td>85</td>\n",
       "      <td>66</td>\n",
       "      <td>29</td>\n",
       "      <td>0</td>\n",
       "      <td>26.6</td>\n",
       "      <td>0.351</td>\n",
       "      <td>31</td>\n",
       "      <td>0</td>\n",
       "    </tr>\n",
       "    <tr>\n",
       "      <th>2</th>\n",
       "      <td>8</td>\n",
       "      <td>183</td>\n",
       "      <td>64</td>\n",
       "      <td>0</td>\n",
       "      <td>0</td>\n",
       "      <td>23.3</td>\n",
       "      <td>0.672</td>\n",
       "      <td>32</td>\n",
       "      <td>1</td>\n",
       "    </tr>\n",
       "    <tr>\n",
       "      <th>3</th>\n",
       "      <td>1</td>\n",
       "      <td>89</td>\n",
       "      <td>66</td>\n",
       "      <td>23</td>\n",
       "      <td>94</td>\n",
       "      <td>28.1</td>\n",
       "      <td>0.167</td>\n",
       "      <td>21</td>\n",
       "      <td>0</td>\n",
       "    </tr>\n",
       "    <tr>\n",
       "      <th>4</th>\n",
       "      <td>0</td>\n",
       "      <td>137</td>\n",
       "      <td>40</td>\n",
       "      <td>35</td>\n",
       "      <td>168</td>\n",
       "      <td>43.1</td>\n",
       "      <td>2.288</td>\n",
       "      <td>33</td>\n",
       "      <td>1</td>\n",
       "    </tr>\n",
       "    <tr>\n",
       "      <th>...</th>\n",
       "      <td>...</td>\n",
       "      <td>...</td>\n",
       "      <td>...</td>\n",
       "      <td>...</td>\n",
       "      <td>...</td>\n",
       "      <td>...</td>\n",
       "      <td>...</td>\n",
       "      <td>...</td>\n",
       "      <td>...</td>\n",
       "    </tr>\n",
       "    <tr>\n",
       "      <th>763</th>\n",
       "      <td>10</td>\n",
       "      <td>101</td>\n",
       "      <td>76</td>\n",
       "      <td>48</td>\n",
       "      <td>180</td>\n",
       "      <td>32.9</td>\n",
       "      <td>0.171</td>\n",
       "      <td>63</td>\n",
       "      <td>0</td>\n",
       "    </tr>\n",
       "    <tr>\n",
       "      <th>764</th>\n",
       "      <td>2</td>\n",
       "      <td>122</td>\n",
       "      <td>70</td>\n",
       "      <td>27</td>\n",
       "      <td>0</td>\n",
       "      <td>36.8</td>\n",
       "      <td>0.340</td>\n",
       "      <td>27</td>\n",
       "      <td>0</td>\n",
       "    </tr>\n",
       "    <tr>\n",
       "      <th>765</th>\n",
       "      <td>5</td>\n",
       "      <td>121</td>\n",
       "      <td>72</td>\n",
       "      <td>23</td>\n",
       "      <td>112</td>\n",
       "      <td>26.2</td>\n",
       "      <td>0.245</td>\n",
       "      <td>30</td>\n",
       "      <td>0</td>\n",
       "    </tr>\n",
       "    <tr>\n",
       "      <th>766</th>\n",
       "      <td>1</td>\n",
       "      <td>126</td>\n",
       "      <td>60</td>\n",
       "      <td>0</td>\n",
       "      <td>0</td>\n",
       "      <td>30.1</td>\n",
       "      <td>0.349</td>\n",
       "      <td>47</td>\n",
       "      <td>1</td>\n",
       "    </tr>\n",
       "    <tr>\n",
       "      <th>767</th>\n",
       "      <td>1</td>\n",
       "      <td>93</td>\n",
       "      <td>70</td>\n",
       "      <td>31</td>\n",
       "      <td>0</td>\n",
       "      <td>30.4</td>\n",
       "      <td>0.315</td>\n",
       "      <td>23</td>\n",
       "      <td>0</td>\n",
       "    </tr>\n",
       "  </tbody>\n",
       "</table>\n",
       "<p>768 rows × 9 columns</p>\n",
       "</div>"
      ],
      "text/plain": [
       "     Pregnancies  Glucose  BloodPressure  SkinThickness  Insulin   BMI  \\\n",
       "0              6      148             72             35        0  33.6   \n",
       "1              1       85             66             29        0  26.6   \n",
       "2              8      183             64              0        0  23.3   \n",
       "3              1       89             66             23       94  28.1   \n",
       "4              0      137             40             35      168  43.1   \n",
       "..           ...      ...            ...            ...      ...   ...   \n",
       "763           10      101             76             48      180  32.9   \n",
       "764            2      122             70             27        0  36.8   \n",
       "765            5      121             72             23      112  26.2   \n",
       "766            1      126             60              0        0  30.1   \n",
       "767            1       93             70             31        0  30.4   \n",
       "\n",
       "     DiabetesPedigreeFunction  Age  Outcome  \n",
       "0                       0.627   50        1  \n",
       "1                       0.351   31        0  \n",
       "2                       0.672   32        1  \n",
       "3                       0.167   21        0  \n",
       "4                       2.288   33        1  \n",
       "..                        ...  ...      ...  \n",
       "763                     0.171   63        0  \n",
       "764                     0.340   27        0  \n",
       "765                     0.245   30        0  \n",
       "766                     0.349   47        1  \n",
       "767                     0.315   23        0  \n",
       "\n",
       "[768 rows x 9 columns]"
      ]
     },
     "execution_count": 3,
     "metadata": {},
     "output_type": "execute_result"
    }
   ],
   "source": [
    "dataset = pd.read_csv('dataset/pima.csv')\n",
    "dataset"
   ]
  },
  {
   "cell_type": "markdown",
   "metadata": {},
   "source": [
    "### Normalização da base de dados e separação em treino e teste"
   ]
  },
  {
   "cell_type": "markdown",
   "metadata": {},
   "source": [
    "São gerados vários _datasets_ a partir do original, cada um contendo a quantidade de dados de entrada que a rede neural suporta. Antes, os dados são normalizados através do `MinMaxScaler()` e cada _dataset_ é subdividido em _batches_ para serem enviados ao modelo do _Pytorch_. Também há, nessa etapa, a separação dos dados em treino e teste, feita de maneira aleatória com o `random_shuffle()`."
   ]
  },
  {
   "cell_type": "code",
   "execution_count": 4,
   "metadata": {},
   "outputs": [],
   "source": [
    "random.seed(30)\n",
    "min_max_scaler = MinMaxScaler()\n",
    "values = dataset.values\n",
    "random.shuffle(values)\n",
    "normalized_X = min_max_scaler.fit_transform(values[:,0:-1])\n",
    "y = values[:,-1]\n",
    "batched_datasets = []\n",
    "\n",
    "for i in range(3,9,1):\n",
    "    X_new = SelectKBest(chi2, k=i).fit_transform(normalized_X, y)\n",
    "    dataset_values = np.split(X_new, 48)\n",
    "    dataset_labels = np.split(y.astype(int), 48)\n",
    "    batched_dataset = []\n",
    "    for i in range(len(dataset_labels)):\n",
    "        batched_dataset.append([torch.tensor(dataset_values[i]), torch.tensor(dataset_labels[i])])\n",
    "    train_data = batched_dataset[:30]\n",
    "    test_data = batched_dataset[30:]\n",
    "    batched_datasets.append({'train': train_data, 'test': test_data})\n",
    "    \n",
    "#dataset_values = np.split(min_max_scaler.fit_transform(dataset.values[:,0:-1].astype(float)), 48)\n",
    "#dataset_labels = np.split(dataset.values[:,-1].astype(int), 48)\n"
   ]
  },
  {
   "cell_type": "markdown",
   "metadata": {},
   "source": [
    "## Criando as Redes Neurais"
   ]
  },
  {
   "cell_type": "markdown",
   "metadata": {},
   "source": [
    "As redes neurais são criadas aqui, através do modelo definido no arquivo `nn_methods.py`."
   ]
  },
  {
   "cell_type": "code",
   "execution_count": 5,
   "metadata": {},
   "outputs": [],
   "source": [
    "neural_networks = []\n",
    "for i in range(3,9,1):\n",
    "    neural_networks.append(NeuralNetworkMethods(i,4,2,i-2))"
   ]
  },
  {
   "cell_type": "markdown",
   "metadata": {},
   "source": [
    "## Treinando"
   ]
  },
  {
   "cell_type": "markdown",
   "metadata": {},
   "source": [
    "Cada _batch_ é usado para treinar a rede 100 vezes."
   ]
  },
  {
   "cell_type": "code",
   "execution_count": 6,
   "metadata": {},
   "outputs": [
    {
     "data": {
      "image/png": "[encoded data removed]",
      "text/plain": [
       "<Figure size 432x288 with 1 Axes>"
      ]
     },
     "metadata": {
      "needs_background": "light"
     },
     "output_type": "display_data"
    }
   ],
   "source": [
    "for i in range(len(neural_networks)):\n",
    "    dataset_size = len(batched_datasets[i]['train']) + len(batched_datasets[i]['test'])\n",
    "    losses = neural_networks[i].train(batched_datasets[i]['train'], dataset_size, 100)\n",
    "    plt.plot(range(100), losses, label=(\"Rede \" + str(i)))\n",
    "    #plt.title(\"Rede \" + str(i))\n",
    "plt.legend(loc='upper right')\n",
    "plt.xlabel(\"Época\")\n",
    "plt.ylabel(\"Perda\")\n",
    "plt.show()"
   ]
  },
  {
   "cell_type": "markdown",
   "metadata": {},
   "source": [
    "## Testando"
   ]
  },
  {
   "cell_type": "markdown",
   "metadata": {},
   "source": [
    "Para cada rede neural gerada, o teste é feito, uma vez ignorando e outra considerando o limiar de erros."
   ]
  },
  {
   "cell_type": "code",
   "execution_count": 9,
   "metadata": {},
   "outputs": [
    {
     "name": "stdout",
     "output_type": "stream",
     "text": [
      "Rede 0\n",
      "Acuracia quando a rede é obrigada a classificar: 75 %\n",
      "Acuracia quando a rede pode recusar-se a classificar: 87 %\n",
      "Porcentagem de predições 35 %\n",
      "Rede 1\n",
      "Acuracia quando a rede é obrigada a classificar: 72 %\n",
      "Acuracia quando a rede pode recusar-se a classificar: 86 %\n",
      "Porcentagem de predições 30 %\n",
      "Rede 2\n",
      "Acuracia quando a rede é obrigada a classificar: 75 %\n",
      "Acuracia quando a rede pode recusar-se a classificar: 89 %\n",
      "Porcentagem de predições 34 %\n",
      "Rede 3\n",
      "Acuracia quando a rede é obrigada a classificar: 73 %\n",
      "Acuracia quando a rede pode recusar-se a classificar: 87 %\n",
      "Porcentagem de predições 36 %\n",
      "Rede 4\n",
      "Acuracia quando a rede é obrigada a classificar: 78 %\n",
      "Acuracia quando a rede pode recusar-se a classificar: 92 %\n",
      "Porcentagem de predições 38 %\n",
      "Rede 5\n",
      "Acuracia quando a rede é obrigada a classificar: 71 %\n",
      "Acuracia quando a rede pode recusar-se a classificar: 92 %\n",
      "Porcentagem de predições 24 %\n"
     ]
    },
    {
     "data": {
      "image/png": "[encoded data removed]",
      "text/plain": [
       "<Figure size 432x288 with 1 Axes>"
      ]
     },
     "metadata": {
      "needs_background": "light"
     },
     "output_type": "display_data"
    }
   ],
   "source": [
    "labels_network = ['3','4', '5','6','7','8']\n",
    "accurs_1 = []\n",
    "accurs_2 = []\n",
    "percentages = []\n",
    "\n",
    "for i in range(len(neural_networks)):\n",
    "    print(\"Rede %d\" % i)\n",
    "    correct = 0\n",
    "    total = 0\n",
    "    for j, data in enumerate(batched_datasets[i]['test']):\n",
    "        atributes, labels = data\n",
    "        predicted = neural_networks[i].predict(atributes.float(), 200)\n",
    "        total += labels.size(0)\n",
    "        correct += (predicted == labels).sum().item()\n",
    "        accur_1 = 100 * correct / total\n",
    "    print(\"Acuracia quando a rede é obrigada a classificar: %d %%\" % accur_1)\n",
    "    \n",
    "    correct = 0\n",
    "    total = 0\n",
    "    total_predicted_for = 0\n",
    "    for j, data in enumerate(batched_datasets[i]['test']):\n",
    "        atributes, labels = data\n",
    "        total_minibatch, correct_minibatch, predictions_minibatch = neural_networks[i].test_batch(\n",
    "            atributes.float(),\n",
    "            labels,\n",
    "            100,\n",
    "            0.8\n",
    "        )\n",
    "        total += total_minibatch\n",
    "        correct += correct_minibatch\n",
    "        total_predicted_for += predictions_minibatch\n",
    "    accur_2 = 0\n",
    "    if(total_predicted_for > 0):\n",
    "        accur_2 = 100 * correct / total_predicted_for\n",
    "    \n",
    "    accurs_1.append(accur_1)\n",
    "    accurs_2.append(accur_2)\n",
    "    percentages.append((100 *total_predicted_for/ total))\n",
    "    print(\"Acuracia quando a rede pode recusar-se a classificar: %d %%\" % accur_2)\n",
    "    print(\"Porcentagem de predições %d %%\" % (100 *total_predicted_for/ total))\n",
    "\n",
    "location = np.arange(len(neural_networks))\n",
    "width = 0.25\n",
    "fig, ax = plt.subplots()\n",
    "rects1 = ax.bar(location - width, accurs_1, width, label='Acurácia ignorando incertezas')\n",
    "rects2 = ax.bar(location, accurs_2, width, label='Acurácia considerando incertezas')\n",
    "rects3 = ax.bar(location + width, percentages, width, label='Porcentagem de itens classificados')\n",
    "\n",
    "ax.set_xticks(location)\n",
    "ax.set_xticklabels(labels_network)\n",
    "ax.legend(loc='lower right')\n",
    "\n",
    "\n",
    "fig.tight_layout()\n",
    "plt.xlabel(\"Número de entradas\")\n",
    "plt.ylabel(\"Acurácias e itens classificados (%)\")\n",
    "\n",
    "plt.show()"
   ]
  }
 ],
 "metadata": {
  "kernelspec": {
   "display_name": "Python 3",
   "language": "python",
   "name": "python3"
  },
  "language_info": {
   "codemirror_mode": {
    "name": "ipython",
    "version": 3
   },
   "file_extension": ".py",
   "mimetype": "text/x-python",
   "name": "python",
   "nbconvert_exporter": "python",
   "pygments_lexer": "ipython3",
   "version": "3.7.4"
  }
 },
 "nbformat": 4,
 "nbformat_minor": 2
}
